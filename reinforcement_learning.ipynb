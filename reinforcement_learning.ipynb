{
 "cells": [
  {
   "cell_type": "code",
   "execution_count": null,
   "metadata": {},
   "outputs": [],
   "source": [
    "import os\n",
    "\n",
    "# Define RL training commands\n",
    "RL_TRAINING_BASE_CMD = \"python train.py --algo {algo} --env {env} -f logs/ --eval-freq 10000 --eval-episodes 100\"\n",
    "\n",
    "def train_rl_agent(algo, env, exp_id):\n",
    "    \"\"\"Function to train RL agent using specified algorithm and environment.\"\"\"\n",
    "    cmd = RL_TRAINING_BASE_CMD.format(algo=algo, env=env)\n",
    "    os.system(f\"{cmd} --exp-id {exp_id}\")\n"
   ]
  },
  {
   "cell_type": "code",
   "execution_count": null,
   "metadata": {},
   "outputs": [],
   "source": [
    "# Example: Train A2C and TQC agents for PandaReach\n",
    "train_rl_agent(\"a2c\", \"PandaReach-v3\", \"a2c_reach\")\n",
    "train_rl_agent(\"tqc\", \"PandaReach-v3\", \"tqc_reach\")\n"
   ]
  }
 ],
 "metadata": {
  "language_info": {
   "name": "python"
  }
 },
 "nbformat": 4,
 "nbformat_minor": 2
}
