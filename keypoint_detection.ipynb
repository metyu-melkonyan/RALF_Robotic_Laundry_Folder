{
 "cells": [
  {
   "cell_type": "code",
   "execution_count": null,
   "metadata": {},
   "outputs": [],
   "source": [
    "import pathlib\n",
    "\n",
    "# Define dataset paths\n",
    "data_dir = pathlib.Path(\"/path/to/aRTF_clothes_resized\")\n",
    "ARTF_TOWEL_TRAIN_PATH = data_dir / \"towels-all-splits-512x256\" / \"towels-train_resized_512x256\"\n",
    "ARTF_TOWEL_TEST_PATH = data_dir / \"towels-all-splits-512x256\" / \"towels-test_resized_512x256\"\n",
    "ARTF_TOWEL_VAL_PATH = data_dir / \"towels-all-splits-512x256\" / \"towels-val_resized_512x256\""
   ]
  },
  {
   "cell_type": "code",
   "execution_count": null,
   "metadata": {},
   "outputs": [],
   "source": [
    "# Command for training the model\n",
    "COMMAND = \"keypoint-detection train --detect_only_visible_keypoints --augment_train\""
   ]
  },
  {
   "cell_type": "code",
   "execution_count": null,
   "metadata": {},
   "outputs": [],
   "source": [
    "# Default hyperparameters\n",
    "DEFAULT_DICT = {\n",
    "    \"keypoint_channel_configuration\": None,\n",
    "    \"accelerator\": \"gpu\",\n",
    "    \"ap_epoch_freq\": 10,\n",
    "    \"backbone_type\": \"MaxVitUnet\",\n",
    "    \"devices\": 1,\n",
    "    \"early_stopping_relative_threshold\": -1,\n",
    "    \"max_epochs\": 150,\n",
    "    \"maximal_gt_keypoint_pixel_distances\": \"2 4 8\",\n",
    "    \"minimal_keypoint_extraction_pixel_distance\": 1,\n",
    "    \"heatmap_sigma\": 3,\n",
    "    \"learning_rate\": 0.0002,\n",
    "    \"batch_size\": 8,\n",
    "    \"wandb_project\": \"AIRoboticsProject\",\n",
    "    \"wandb_name\": None,\n",
    "}"
   ]
  },
  {
   "cell_type": "code",
   "execution_count": null,
   "metadata": {},
   "outputs": [],
   "source": [
    "def create_train_command(arg_dict):\n",
    "    \"\"\"Generates a shell command from the argument dictionary.\"\"\"\n",
    "    command = COMMAND\n",
    "    for key, value in arg_dict.items():\n",
    "        command += f\" --{key} {value}\"\n",
    "    return command"
   ]
  },
  {
   "cell_type": "code",
   "execution_count": null,
   "metadata": {},
   "outputs": [],
   "source": [
    "# Example: Configuring Towel Keypoint Detection\n",
    "print(\"Training Towel Keypoints\")\n",
    "arg_dict = DEFAULT_DICT.copy()\n",
    "arg_dict[\"json_dataset_path\"] = ARTF_TOWEL_TRAIN_PATH\n",
    "arg_dict[\"json_test_dataset_path\"] = ARTF_TOWEL_TEST_PATH\n",
    "arg_dict[\"json_validation_dataset_path\"] = ARTF_TOWEL_VAL_PATH\n",
    "arg_dict[\"keypoint_channel_configuration\"] = \"corner0:corner1:corner2:corner3\"\n",
    "arg_dict[\"wandb_name\"] = \"towel_keypoints\""
   ]
  },
  {
   "cell_type": "code",
   "execution_count": null,
   "metadata": {},
   "outputs": [],
   "source": [
    "# Save and execute the training script\n",
    "with open(\"towel_training.sh\", \"w\") as file:\n",
    "    file.write(create_train_command(arg_dict))\n",
    "\n",
    "print(\"Run the generated script: `bash towel_training.sh`\")"
   ]
  }
 ],
 "metadata": {
  "language_info": {
   "name": "python"
  }
 },
 "nbformat": 4,
 "nbformat_minor": 2
}
